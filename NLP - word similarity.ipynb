{
 "cells": [
  {
   "cell_type": "code",
   "execution_count": 1,
   "id": "71e71700-5643-435d-b296-699024d852d7",
   "metadata": {},
   "outputs": [
    {
     "name": "stderr",
     "output_type": "stream",
     "text": [
      "[nltk_data] Downloading package punkt to\n",
      "[nltk_data]     C:\\Users\\barba\\AppData\\Roaming\\nltk_data...\n",
      "[nltk_data]   Package punkt is already up-to-date!\n"
     ]
    },
    {
     "data": {
      "text/plain": [
       "True"
      ]
     },
     "execution_count": 1,
     "metadata": {},
     "output_type": "execute_result"
    }
   ],
   "source": [
    "import nltk\n",
    "from nltk import tokenize\n",
    "nltk.download('punkt') #checando se tenho o tokenizador!"
   ]
  },
  {
   "cell_type": "code",
   "execution_count": 9,
   "id": "fcae0d48-0834-4103-9012-f24ef2881bf9",
   "metadata": {},
   "outputs": [
    {
     "name": "stdout",
     "output_type": "stream",
     "text": [
      "['E agora, José?', 'A festa acabou,\\na luz apagou,\\no povo sumiu,\\na noite esfriou,\\ne agora, José?', 'e agora, você?', 'você que é sem nome,\\nque zomba dos outros,\\nvocê que faz versos,\\nque ama, protesta?', 'e agora, José?', 'Está sem mulher,\\nestá sem discurso,\\nestá sem carinho,\\njá não pode beber,\\njá não pode fumar,\\ncuspir já não pode,\\na noite esfriou,\\no dia não veio,\\no bonde não veio,\\no riso não veio,\\nnão veio a utopia\\ne tudo acabou\\ne tudo fugiu\\ne tudo mofou,\\ne agora, José?', 'E agora, José?', 'Sua doce palavra,\\nseu instante de febre,\\nsua gula e jejum,\\nsua biblioteca,\\nsua lavra de ouro,\\nseu terno de vidro,\\nsua incoerência,\\nseu ódio — e agora?', 'Com a chave na mão\\nquer abrir a porta,\\nnão existe porta;\\nquer morrer no mar,\\nmas o mar secou;\\nquer ir para Minas,\\nMinas não há mais.', 'José, e agora?', 'Se você gritasse,\\nse você gemesse,\\nse você tocasse\\na valsa vienense,\\nse você dormisse,\\nse você cansasse,\\nse você morresse...', 'Mas você não morre,\\nvocê é duro, José!', 'Sozinho no escuro\\nqual bicho-do-mato,\\nsem teogonia,\\nsem parede nua\\npara se encostar,\\nsem cavalo preto\\nque fuja a galope,\\nvocê marcha, José!', 'José, para onde?']\n",
      "14\n"
     ]
    }
   ],
   "source": [
    "#segmentação de sentenças\n",
    "\n",
    "sentencas = nltk.sent_tokenize(poema, language='portuguese')\n",
    "print(sentencas)\n",
    "print(len(sentencas))"
   ]
  },
  {
   "cell_type": "code",
   "execution_count": 27,
   "id": "f22b91a9-0f17-4b36-9ef2-77527dae698f",
   "metadata": {},
   "outputs": [],
   "source": [
    "#similaridade textual\n",
    "\n",
    "import pandas as pd\n",
    "import numpy as np"
   ]
  },
  {
   "cell_type": "code",
   "execution_count": 15,
   "id": "7bfa6d00-484a-46ed-846d-717ac2635e51",
   "metadata": {},
   "outputs": [
    {
     "name": "stdout",
     "output_type": "stream",
     "text": [
      "                                               texts              classes\n",
      "0  Monkey D. Luffy is commonly known as \"Straw Ha...            One Piece\n",
      "1  He fearlessly pursues the legendary treasure o...            One Piece\n",
      "2  He believes that, by being the Pirate King, he...            One Piece\n",
      "3  Edward Elric is a State Alchemist! He is given...  Fullmetal Alchemist\n",
      "4  Like his brother, he is the victim of a failed...  Fullmetal Alchemist\n",
      "5  In an effort to restore their bodies to their ...  Fullmetal Alchemist\n"
     ]
    }
   ],
   "source": [
    "texts = ['Monkey D. Luffy is commonly known as \"Straw Hat Luffy\"! He is the founder and captain of the Straw Hat Pirates.',\n",
    "         'He fearlessly pursues the legendary treasure of the late Gol D. Roger in order to become the new Pirate King.',\n",
    "         'He believes that, by being the Pirate King, he will have the most freedom in the world.',\n",
    "         'Edward Elric is a State Alchemist! He is given the official title of Fullmetal Alchemist.',\n",
    "         'Like his brother, he is the victim of a failed Human Transmutation experiment to bring back their late mother.',\n",
    "         'In an effort to restore their bodies to their original states, they set out on a quest to find the Philosopher\\'s Stone.']\n",
    "classes = ['One Piece', 'One Piece', 'One Piece', 'Fullmetal Alchemist', 'Fullmetal Alchemist', 'Fullmetal Alchemist']\n",
    "\n",
    "df = pd.DataFrame({'texts': texts, 'classes': classes})\n",
    "print(df)"
   ]
  },
  {
   "cell_type": "code",
   "execution_count": 17,
   "id": "7f30a285-7152-433d-8fc7-e370b77c23cb",
   "metadata": {},
   "outputs": [],
   "source": [
    "#similaridade textual baseada em caracteres\n",
    "#levenshtein: o valor da distância descreve o número mínimo de operações para transformar s em t\n",
    "\n",
    "def levenshtein(seq1, seq2):\n",
    "    # criar uma matriz\n",
    "    size_x = len(seq1) + 1\n",
    "    size_y = len(seq2) + 1\n",
    "    matrix = np.zeros((size_x, size_y))\n",
    "\n",
    "    # setar número das colunas (0, n-1)\n",
    "    for x in range(size_x):\n",
    "        matrix[x, 0] = x\n",
    "\n",
    "    # setar número das linhas (0, n-1)\n",
    "    for y in range(size_y):\n",
    "        matrix[0, y] = y\n",
    "\n",
    "    # calcular a distancia\n",
    "    for x in range(1, size_x):\n",
    "        for y in range(1, size_y):\n",
    "            # se os caracteres são iguais, não aumenta distância\n",
    "            if seq1[x-1] == seq2[y-1]:\n",
    "                matrix[x, y] = matrix[x-1, y-1]\n",
    "            # se são diferentes, aumenta a distância em 1\n",
    "            else:\n",
    "                matrix[x, y] = min(\n",
    "                    matrix[x-1, y] + 1,\n",
    "                    matrix[x-1, y-1] + 1,\n",
    "                    matrix[x, y-1] + 1\n",
    "                )\n",
    "\n",
    "    #imprime a matriz de cálculo da distância\n",
    "    #list(seq1) converte string em uma lista de caracteres\n",
    "    print(pd.DataFrame(matrix[1:,1:], index=list(seq1), columns=list(seq2)))\n",
    "\n",
    "    return (matrix[size_x - 1, size_y - 1])"
   ]
  },
  {
   "cell_type": "code",
   "execution_count": 18,
   "id": "fcfbcc49-3d3c-4c5e-b375-c33af503d858",
   "metadata": {},
   "outputs": [
    {
     "name": "stdout",
     "output_type": "stream",
     "text": [
      "     m    e    d    i    c    o\n",
      "m  0.0  1.0  2.0  3.0  4.0  5.0\n",
      "e  1.0  0.0  1.0  2.0  3.0  4.0\n",
      "d  2.0  1.0  0.0  1.0  2.0  3.0\n",
      "i  3.0  2.0  1.0  0.0  1.0  2.0\n",
      "c  4.0  3.0  2.0  1.0  0.0  1.0\n",
      "i  5.0  4.0  3.0  2.0  1.0  1.0\n",
      "n  6.0  5.0  4.0  3.0  2.0  2.0\n",
      "a  7.0  6.0  5.0  4.0  3.0  3.0\n"
     ]
    },
    {
     "data": {
      "text/plain": [
       "np.float64(3.0)"
      ]
     },
     "execution_count": 18,
     "metadata": {},
     "output_type": "execute_result"
    }
   ],
   "source": [
    "levenshtein('medicina', 'medico') #exemplo menor de distância entre duas strings, só para testar"
   ]
  },
  {
   "cell_type": "code",
   "execution_count": 19,
   "id": "0712f713-f4d0-4635-80f2-bd04a58e64b9",
   "metadata": {},
   "outputs": [
    {
     "name": "stdout",
     "output_type": "stream",
     "text": [
      "                                               texts              classes\n",
      "0  Monkey D. Luffy is commonly known as \"Straw Ha...            One Piece\n",
      "1  He fearlessly pursues the legendary treasure o...            One Piece\n",
      "2  He believes that, by being the Pirate King, he...            One Piece\n",
      "3  Edward Elric is a State Alchemist! He is given...  Fullmetal Alchemist\n",
      "4  Like his brother, he is the victim of a failed...  Fullmetal Alchemist\n",
      "5  In an effort to restore their bodies to their ...  Fullmetal Alchemist\n",
      "------\n",
      "texto 1:  Edward Elric is a State Alchemist! He is given the official title of Fullmetal Alchemist.\n",
      "texto 2:  He believes that, by being the Pirate King, he will have the most freedom in the world.\n",
      "------\n",
      "       H     e           b     e     l     i     e     v     e  ...     t  \\\n",
      "E    1.0   2.0   3.0   4.0   5.0   6.0   7.0   8.0   9.0  10.0  ...  78.0   \n",
      "d    2.0   2.0   3.0   4.0   5.0   6.0   7.0   8.0   9.0  10.0  ...  77.0   \n",
      "w    3.0   3.0   3.0   4.0   5.0   6.0   7.0   8.0   9.0  10.0  ...  77.0   \n",
      "a    4.0   4.0   4.0   4.0   5.0   6.0   7.0   8.0   9.0  10.0  ...  76.0   \n",
      "r    5.0   5.0   5.0   5.0   5.0   6.0   7.0   8.0   9.0  10.0  ...  75.0   \n",
      "..   ...   ...   ...   ...   ...   ...   ...   ...   ...   ...  ...   ...   \n",
      "m   84.0  83.0  82.0  82.0  81.0  80.0  79.0  78.0  78.0  77.0  ...  65.0   \n",
      "i   85.0  84.0  83.0  83.0  82.0  81.0  80.0  79.0  79.0  78.0  ...  66.0   \n",
      "s   86.0  85.0  84.0  84.0  83.0  82.0  81.0  80.0  80.0  79.0  ...  67.0   \n",
      "t   87.0  86.0  85.0  85.0  84.0  83.0  82.0  81.0  81.0  80.0  ...  67.0   \n",
      ".   88.0  87.0  86.0  86.0  85.0  84.0  83.0  82.0  82.0  81.0  ...  68.0   \n",
      "\n",
      "       h     e           w     o     r     l     d     .  \n",
      "E   79.0  80.0  81.0  82.0  83.0  84.0  85.0  86.0  87.0  \n",
      "d   78.0  79.0  80.0  81.0  82.0  83.0  84.0  85.0  86.0  \n",
      "w   78.0  79.0  80.0  80.0  81.0  82.0  83.0  84.0  85.0  \n",
      "a   77.0  78.0  79.0  80.0  81.0  82.0  83.0  84.0  85.0  \n",
      "r   76.0  77.0  78.0  79.0  80.0  81.0  82.0  83.0  84.0  \n",
      "..   ...   ...   ...   ...   ...   ...   ...   ...   ...  \n",
      "m   65.0  64.0  64.0  65.0  66.0  67.0  68.0  69.0  69.0  \n",
      "i   66.0  65.0  65.0  65.0  66.0  67.0  68.0  69.0  70.0  \n",
      "s   67.0  66.0  66.0  66.0  66.0  67.0  68.0  69.0  70.0  \n",
      "t   68.0  67.0  67.0  67.0  67.0  67.0  68.0  69.0  70.0  \n",
      ".   68.0  68.0  68.0  68.0  68.0  68.0  68.0  69.0  69.0  \n",
      "\n",
      "[89 rows x 87 columns]\n"
     ]
    },
    {
     "data": {
      "text/plain": [
       "np.float64(69.0)"
      ]
     },
     "execution_count": 19,
     "metadata": {},
     "output_type": "execute_result"
    }
   ],
   "source": [
    "#usando a distância de levenshtein para comparar textos\n",
    "\n",
    "print(df)\n",
    "print (\"------\")\n",
    "doc_id_a = 3  # índice do texto 1\n",
    "doc_id_b = 2  # índice do texto 2\n",
    "\n",
    "print(\"texto 1: \", df.loc[doc_id_a]['texts'])\n",
    "print(\"texto 2: \", df.loc[doc_id_b]['texts'])\n",
    "print (\"------\")\n",
    "\n",
    "levenshtein(df.loc[doc_id_a]['texts'], df.loc[doc_id_b]['texts'])"
   ]
  },
  {
   "cell_type": "code",
   "execution_count": 32,
   "id": "47547f17-bbfc-453e-a855-b1e118e55b87",
   "metadata": {},
   "outputs": [
    {
     "name": "stdout",
     "output_type": "stream",
     "text": [
      "Stopwords found in texts: ['a', 'an', 'and', 'as', 'being', 'by', 'have', 'he', 'his', 'in', 'is', 'most', 'of', 'on', 'out', 'that', 'the', 'their', 'they', 'to', 'will']\n"
     ]
    }
   ],
   "source": [
    "from nltk.corpus import stopwords\n",
    "from nltk.tokenize import word_tokenize\n",
    "\n",
    "stop_words = set(stopwords.words('english'))\n",
    "found_stopwords = set()\n",
    "\n",
    "for text in texts:\n",
    "    words = word_tokenize(text.lower())\n",
    "    found_stopwords.update(word for word in words if word in stop_words)\n",
    "\n",
    "print(\"Stopwords found in texts:\", sorted(found_stopwords))"
   ]
  },
  {
   "cell_type": "code",
   "execution_count": 50,
   "id": "b41ac7e1-0989-4ba4-acd2-22147e5f5a43",
   "metadata": {},
   "outputs": [],
   "source": [
    "#similaridade textual baseada em termos\n",
    "#vetorizando os documentos de treinamento\n",
    "#em outras palavras, transformando os textos em vetores em que as colunas são as palavras (sem stopwords)\n",
    "#as linhas são a quantidade de vezes que um termo aparece nos textos (no mínimo 2)\n",
    "\n",
    "import numpy as np\n",
    "from sklearn.feature_extraction.text import CountVectorizer\n",
    "\n",
    "\"\"\"Criando o objeto vetorizador (convertendo para letras minúsculas, \n",
    "removendo as stopwords especificadas em uma lista e apenas mantendo \n",
    "os termos que ocorreram em dois ou mais documentos\"\"\"\n",
    "\n",
    "vetorizador = CountVectorizer(\n",
    "    lowercase=True,\n",
    "    stop_words=['a', 'an', 'and', 'as', 'being', 'by', 'have', 'he', 'his', \n",
    "                'in', 'is', 'most', 'of', 'on', 'out', 'that', 'the', 'their', \n",
    "                'they', 'to', 'will'],\n",
    "    min_df=2,\n",
    "    dtype=np.int16\n",
    ")"
   ]
  },
  {
   "cell_type": "code",
   "execution_count": 48,
   "id": "d06a646e-2d10-4d58-af80-5a49dbdf09ad",
   "metadata": {},
   "outputs": [
    {
     "name": "stdout",
     "output_type": "stream",
     "text": [
      "['king' 'late' 'pirate']\n"
     ]
    }
   ],
   "source": [
    "#obtendo o vocabulário\n",
    "\n",
    "vetorizador.fit(df['texts'])\n",
    "print(vetorizador.get_feature_names_out())"
   ]
  },
  {
   "cell_type": "code",
   "execution_count": 49,
   "id": "c7c28fc1-678b-4615-8f86-e40324b4683b",
   "metadata": {},
   "outputs": [
    {
     "name": "stdout",
     "output_type": "stream",
     "text": [
      "<Compressed Sparse Row sparse matrix of dtype 'int16'\n",
      "\twith 6 stored elements and shape (6, 3)>\n",
      "  Coords\tValues\n",
      "  (1, 0)\t1\n",
      "  (1, 1)\t1\n",
      "  (1, 2)\t1\n",
      "  (2, 0)\t1\n",
      "  (2, 2)\t1\n",
      "  (4, 1)\t1\n"
     ]
    }
   ],
   "source": [
    "#gerando a representação estruturada a partir do vocabulário ajustado\n",
    "\n",
    "representacao = vetorizador.transform(df['texts'])\n",
    "print(representacao)"
   ]
  },
  {
   "cell_type": "code",
   "execution_count": 51,
   "id": "71f565b4-5efa-49b3-9f5f-c1ca4cb892a7",
   "metadata": {},
   "outputs": [
    {
     "name": "stdout",
     "output_type": "stream",
     "text": [
      "[[0 0 0]\n",
      " [1 1 1]\n",
      " [1 0 1]\n",
      " [0 0 0]\n",
      " [0 1 0]\n",
      " [0 0 0]]\n"
     ]
    }
   ],
   "source": [
    "#a representação retornada é uma matriz em formato esparso, mas é possível gerar o array\n",
    "\n",
    "representacao\n",
    "rep_array = representacao.toarray() #a partir daqui é possível aplicar funções de similaridade\n",
    "print(rep_array)"
   ]
  },
  {
   "cell_type": "code",
   "execution_count": 43,
   "id": "57361a33-2cc9-41d2-91c1-e726ac1e3ccf",
   "metadata": {},
   "outputs": [],
   "source": [
    "#cosseno é, também, uma forma de obter a similaridade entre textos\n",
    "\n",
    "from sklearn.metrics.pairwise import cosine_similarity\n",
    "matrix_sim = cosine_similarity(rep_array)"
   ]
  },
  {
   "cell_type": "code",
   "execution_count": 44,
   "id": "99f966a9-6e78-488e-82af-838057e88f2d",
   "metadata": {},
   "outputs": [
    {
     "data": {
      "text/plain": [
       "array([[0.        , 0.        , 0.        , 0.        , 0.        ,\n",
       "        0.        ],\n",
       "       [0.        , 1.        , 0.81649658, 0.        , 0.57735027,\n",
       "        0.        ],\n",
       "       [0.        , 0.81649658, 1.        , 0.        , 0.        ,\n",
       "        0.        ],\n",
       "       [0.        , 0.        , 0.        , 0.        , 0.        ,\n",
       "        0.        ],\n",
       "       [0.        , 0.57735027, 0.        , 0.        , 1.        ,\n",
       "        0.        ],\n",
       "       [0.        , 0.        , 0.        , 0.        , 0.        ,\n",
       "        0.        ]])"
      ]
     },
     "execution_count": 44,
     "metadata": {},
     "output_type": "execute_result"
    }
   ],
   "source": [
    "matrix_sim"
   ]
  },
  {
   "cell_type": "code",
   "execution_count": 45,
   "id": "9908be14-f00a-452a-9afd-6a88dbaf5381",
   "metadata": {},
   "outputs": [],
   "source": [
    "def most_similar(id_doc, matrix): #função para buscar, dentre os textos, qual é o mais próximo de um parâmetro escolhido\n",
    "    matrix_sim = cosine_similarity(matrix)\n",
    "    best_sim = -1\n",
    "    id_best_sim = -1;\n",
    "    for id, doc_sim in enumerate(matrix_sim[id_doc]):\n",
    "        if id != id_doc:\n",
    "            if doc_sim > best_sim:\n",
    "                best_sim = doc_sim\n",
    "                id_best_sim = id\n",
    "    return id_best_sim"
   ]
  },
  {
   "cell_type": "code",
   "execution_count": 52,
   "id": "acd4edd5-4443-456c-98e6-e75ead03786b",
   "metadata": {},
   "outputs": [
    {
     "name": "stdout",
     "output_type": "stream",
     "text": [
      "                                               texts              classes\n",
      "0  Monkey D. Luffy is commonly known as \"Straw Ha...            One Piece\n",
      "1  He fearlessly pursues the legendary treasure o...            One Piece\n",
      "2  He believes that, by being the Pirate King, he...            One Piece\n",
      "3  Edward Elric is a State Alchemist! He is given...  Fullmetal Alchemist\n",
      "4  Like his brother, he is the victim of a failed...  Fullmetal Alchemist\n",
      "5  In an effort to restore their bodies to their ...  Fullmetal Alchemist\n",
      "------\n",
      "Texto:  He fearlessly pursues the legendary treasure of the late Gol D. Roger in order to become the new Pirate King.\n",
      "Texto mais parecido:  He believes that, by being the Pirate King, he will have the most freedom in the world.\n"
     ]
    }
   ],
   "source": [
    "print(df)\n",
    "print (\"------\")\n",
    "doc_id = 1 #parâmetro que eu escolhi\n",
    "print('Texto: ', df.loc[doc_id]['texts'])\n",
    "print('Texto mais parecido: ', df.loc[most_similar(doc_id, rep_array)]['texts'])"
   ]
  },
  {
   "cell_type": "code",
   "execution_count": 53,
   "id": "fa7352fb-340b-4134-9bb0-a941a5e70d55",
   "metadata": {},
   "outputs": [],
   "source": [
    "#mais uma métrica de similaridade baseada em termos: jaccard\n",
    "\n",
    "from sklearn.metrics.pairwise import pairwise_distances\n",
    "\n",
    "def most_similar(id_doc, matrix):\n",
    "    matrix_sim = 1 - pairwise_distances(matrix, metric='jaccard') # como é medida de distância (valor entre 0 e 1), utilizar o complemento\n",
    "    best_sim = -1\n",
    "    id_best_sim = -1\n",
    "    for id, doc_sim in enumerate(matrix_sim[id_doc]):\n",
    "        if id != id_doc:\n",
    "            if doc_sim > best_sim:\n",
    "                best_sim = doc_sim\n",
    "                id_best_sim = id\n",
    "    return id_best_sim"
   ]
  },
  {
   "cell_type": "code",
   "execution_count": 54,
   "id": "efdf13a7-25a3-451e-b7f9-0da02dc63b46",
   "metadata": {},
   "outputs": [
    {
     "name": "stderr",
     "output_type": "stream",
     "text": [
      "C:\\Users\\barba\\AppData\\Local\\Programs\\Python\\Python313\\Lib\\site-packages\\sklearn\\metrics\\pairwise.py:2466: DataConversionWarning: Data was converted to boolean for metric jaccard\n",
      "  warnings.warn(msg, DataConversionWarning)\n"
     ]
    },
    {
     "data": {
      "text/plain": [
       "array([[1.        , 0.        , 0.        , 1.        , 0.        ,\n",
       "        1.        ],\n",
       "       [0.        , 1.        , 0.66666667, 0.        , 0.33333333,\n",
       "        0.        ],\n",
       "       [0.        , 0.66666667, 1.        , 0.        , 0.        ,\n",
       "        0.        ],\n",
       "       [1.        , 0.        , 0.        , 1.        , 0.        ,\n",
       "        1.        ],\n",
       "       [0.        , 0.33333333, 0.        , 0.        , 1.        ,\n",
       "        0.        ],\n",
       "       [1.        , 0.        , 0.        , 1.        , 0.        ,\n",
       "        1.        ]])"
      ]
     },
     "execution_count": 54,
     "metadata": {},
     "output_type": "execute_result"
    }
   ],
   "source": [
    "matrix_sim = 1 - pairwise_distances(rep_array, metric='jaccard')\n",
    "matrix_sim"
   ]
  },
  {
   "cell_type": "code",
   "execution_count": 56,
   "id": "c70f291d-ab58-49b7-975d-9c081d73ff2b",
   "metadata": {},
   "outputs": [
    {
     "name": "stdout",
     "output_type": "stream",
     "text": [
      "                                               texts              classes\n",
      "0  Monkey D. Luffy is commonly known as \"Straw Ha...            One Piece\n",
      "1  He fearlessly pursues the legendary treasure o...            One Piece\n",
      "2  He believes that, by being the Pirate King, he...            One Piece\n",
      "3  Edward Elric is a State Alchemist! He is given...  Fullmetal Alchemist\n",
      "4  Like his brother, he is the victim of a failed...  Fullmetal Alchemist\n",
      "5  In an effort to restore their bodies to their ...  Fullmetal Alchemist\n",
      "------\n",
      "Texto:  He fearlessly pursues the legendary treasure of the late Gol D. Roger in order to become the new Pirate King.\n",
      "Texto mais parecido:  He believes that, by being the Pirate King, he will have the most freedom in the world.\n"
     ]
    }
   ],
   "source": [
    "import warnings\n",
    "warnings.filterwarnings('ignore')\n",
    "\n",
    "print(df)\n",
    "print('------')\n",
    "doc_id = 1\n",
    "print('Texto: ', df.loc[doc_id]['texts'])\n",
    "print('Texto mais parecido: ', df.loc[most_similar(doc_id, rep_array)]['texts'])"
   ]
  },
  {
   "cell_type": "code",
   "execution_count": 59,
   "id": "ad9ca062-9346-4cdc-a9f2-cdf98b83bc99",
   "metadata": {},
   "outputs": [
    {
     "name": "stdout",
     "output_type": "stream",
     "text": [
      "[1 1 1]\n",
      "[0 1 0]\n"
     ]
    },
    {
     "data": {
      "text/plain": [
       "np.float64(0.3333333333333333)"
      ]
     },
     "execution_count": 59,
     "metadata": {},
     "output_type": "execute_result"
    }
   ],
   "source": [
    "from sklearn.metrics import jaccard_score  # alternativa para comparar 2 textos / vetores\n",
    "\n",
    "doc_id_a = 1\n",
    "doc_id_b = 4\n",
    "textol = rep_array[doc_id_a]\n",
    "texto2 = rep_array[doc_id_b]\n",
    "\n",
    "print(textol)\n",
    "print(texto2)\n",
    "jaccard_score(textol, texto2)"
   ]
  },
  {
   "cell_type": "code",
   "execution_count": 60,
   "id": "b94c4b0e-82ca-47a3-bff9-19eabf020ed5",
   "metadata": {},
   "outputs": [],
   "source": [
    "#por fim, euclidiana\n",
    "\n",
    "def most_similar(id_doc, matrix):\n",
    "    matrix_sim = pairwise_distances(matrix, metric='euclidean')\n",
    "    best_sim = 99999999\n",
    "    id_best_sim = -1\n",
    "    for id, doc_sim in enumerate(matrix_sim[id_doc]):\n",
    "        if id != id_doc:\n",
    "            if doc_sim <= best_sim:\n",
    "                best_sim = doc_sim\n",
    "                id_best_sim = id\n",
    "    return id_best_sim"
   ]
  },
  {
   "cell_type": "code",
   "execution_count": 62,
   "id": "4c65fcb2-897f-496d-9617-418b0969ba79",
   "metadata": {},
   "outputs": [
    {
     "data": {
      "text/plain": [
       "array([[0.        , 1.73205081, 1.41421356, 0.        , 1.        ,\n",
       "        0.        ],\n",
       "       [1.73205081, 0.        , 1.        , 1.73205081, 1.41421356,\n",
       "        1.73205081],\n",
       "       [1.41421356, 1.        , 0.        , 1.41421356, 1.73205081,\n",
       "        1.41421356],\n",
       "       [0.        , 1.73205081, 1.41421356, 0.        , 1.        ,\n",
       "        0.        ],\n",
       "       [1.        , 1.41421356, 1.73205081, 1.        , 0.        ,\n",
       "        1.        ],\n",
       "       [0.        , 1.73205081, 1.41421356, 0.        , 1.        ,\n",
       "        0.        ]])"
      ]
     },
     "execution_count": 62,
     "metadata": {},
     "output_type": "execute_result"
    }
   ],
   "source": [
    "matrix_sim = pairwise_distances(rep_array, metric='euclidean')\n",
    "matrix_sim"
   ]
  },
  {
   "cell_type": "code",
   "execution_count": 63,
   "id": "1b7aac03-7e13-4e21-8d7c-42a8dee54f10",
   "metadata": {},
   "outputs": [
    {
     "name": "stdout",
     "output_type": "stream",
     "text": [
      "                                               texts              classes\n",
      "0  Monkey D. Luffy is commonly known as \"Straw Ha...            One Piece\n",
      "1  He fearlessly pursues the legendary treasure o...            One Piece\n",
      "2  He believes that, by being the Pirate King, he...            One Piece\n",
      "3  Edward Elric is a State Alchemist! He is given...  Fullmetal Alchemist\n",
      "4  Like his brother, he is the victim of a failed...  Fullmetal Alchemist\n",
      "5  In an effort to restore their bodies to their ...  Fullmetal Alchemist\n",
      "------\n",
      "Texto:  He fearlessly pursues the legendary treasure of the late Gol D. Roger in order to become the new Pirate King.\n",
      "Texto mais parecido:  He believes that, by being the Pirate King, he will have the most freedom in the world.\n"
     ]
    }
   ],
   "source": [
    "print(df)\n",
    "print('------')\n",
    "doc_id = 1\n",
    "print('Texto: ', df.loc[doc_id]['texts'])\n",
    "print('Texto mais parecido: ', df.loc[most_similar(doc_id, rep_array)]['texts'])"
   ]
  },
  {
   "cell_type": "code",
   "execution_count": null,
   "id": "d0eceee9-868a-4adb-ad90-bbcfc4955b86",
   "metadata": {},
   "outputs": [],
   "source": []
  }
 ],
 "metadata": {
  "kernelspec": {
   "display_name": "Python 3 (ipykernel)",
   "language": "python",
   "name": "python3"
  },
  "language_info": {
   "codemirror_mode": {
    "name": "ipython",
    "version": 3
   },
   "file_extension": ".py",
   "mimetype": "text/x-python",
   "name": "python",
   "nbconvert_exporter": "python",
   "pygments_lexer": "ipython3",
   "version": "3.13.1"
  }
 },
 "nbformat": 4,
 "nbformat_minor": 5
}
